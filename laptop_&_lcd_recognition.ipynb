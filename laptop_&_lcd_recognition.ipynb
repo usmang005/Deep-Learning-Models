{
  "nbformat": 4,
  "nbformat_minor": 0,
  "metadata": {
    "colab": {
      "name": "laptop & lcd recognition.ipynb",
      "provenance": [],
      "collapsed_sections": [],
      "toc_visible": true,
      "mount_file_id": "191p56VpTSKldk3psSPEAXthhdtfiU2ru",
      "authorship_tag": "ABX9TyOtOjNvF8nuYgmgCZakmdl4",
      "include_colab_link": true
    },
    "kernelspec": {
      "name": "python3",
      "display_name": "Python 3"
    },
    "language_info": {
      "name": "python"
    },
    "accelerator": "GPU",
    "gpuClass": "standard"
  },
  "cells": [
    {
      "cell_type": "markdown",
      "metadata": {
        "id": "view-in-github",
        "colab_type": "text"
      },
      "source": [
        "<a href=\"https://colab.research.google.com/github/usmang005/Deep-Learning-Models/blob/main/laptop_%26_lcd_recognition.ipynb\" target=\"_parent\"><img src=\"https://colab.research.google.com/assets/colab-badge.svg\" alt=\"Open In Colab\"/></a>"
      ]
    },
    {
      "cell_type": "markdown",
      "source": [
        "### Importing dataset"
      ],
      "metadata": {
        "id": "lT7CFGJhuCZh"
      }
    },
    {
      "cell_type": "code",
      "source": [
        "# import tensorflow and check the version\n",
        "import tensorflow as tf\n",
        "tf.__version__"
      ],
      "metadata": {
        "colab": {
          "base_uri": "https://localhost:8080/",
          "height": 35
        },
        "id": "LcDGmjmmuVzB",
        "outputId": "d788aa7e-5522-4efb-e710-5b5f2d8c9dbf"
      },
      "execution_count": 1,
      "outputs": [
        {
          "output_type": "execute_result",
          "data": {
            "text/plain": [
              "'2.8.2'"
            ],
            "application/vnd.google.colaboratory.intrinsic+json": {
              "type": "string"
            }
          },
          "metadata": {},
          "execution_count": 1
        }
      ]
    },
    {
      "cell_type": "code",
      "source": [
        "# Importing dataset \n",
        "import pathlib\n",
        "data = pathlib.Path(\"/content/drive/MyDrive/Datasets/Dataset\")"
      ],
      "metadata": {
        "id": "hVBMr3VtuhhM"
      },
      "execution_count": 2,
      "outputs": []
    },
    {
      "cell_type": "code",
      "source": [
        "!ls /content/drive/MyDrive/Datasets/Dataset"
      ],
      "metadata": {
        "colab": {
          "base_uri": "https://localhost:8080/"
        },
        "id": "V5YiNlnTxiRr",
        "outputId": "9f62004e-5b76-4123-a724-dca23dac8ffa"
      },
      "execution_count": 3,
      "outputs": [
        {
          "output_type": "stream",
          "name": "stdout",
          "text": [
            "laptop\tlcd\n"
          ]
        }
      ]
    },
    {
      "cell_type": "markdown",
      "source": [
        "### Become one with data"
      ],
      "metadata": {
        "id": "FoiC-t3mztFV"
      }
    },
    {
      "cell_type": "code",
      "source": [
        "# Let's create a function to visualize the number of images and floders and files in it\n",
        "import os\n",
        "for dirpath, dirnames, filenames in os.walk(\"/content/drive/MyDrive/Datasets/Dataset\"):\n",
        "  print(f\"There are {len(dirnames)} directories  and {len(filenames)} images in {dirpath}\")"
      ],
      "metadata": {
        "colab": {
          "base_uri": "https://localhost:8080/"
        },
        "id": "1Ziwategx5Ar",
        "outputId": "5505be7d-7a9d-4588-eb47-6c1df6245643"
      },
      "execution_count": 4,
      "outputs": [
        {
          "output_type": "stream",
          "name": "stdout",
          "text": [
            "There are 2 directories  and 0 images in /content/drive/MyDrive/Datasets/Dataset\n",
            "There are 0 directories  and 20 images in /content/drive/MyDrive/Datasets/Dataset/laptop\n",
            "There are 0 directories  and 20 images in /content/drive/MyDrive/Datasets/Dataset/lcd\n"
          ]
        }
      ]
    },
    {
      "cell_type": "code",
      "source": [
        "# Splt the folder in train and test folders\n",
        "!pip install split-folders\n",
        "import splitfolders\n",
        "input_folder = \"/content/drive/MyDrive/Datasets/Dataset\"\n",
        "\n",
        "splitfolders.ratio(input_folder, output =\"Dataset_split\",\n",
        "                   seed = 42, ratio =(.7, .2, .1),\n",
        "                   group_prefix= None)"
      ],
      "metadata": {
        "colab": {
          "base_uri": "https://localhost:8080/"
        },
        "id": "i6B5v2n3x9u1",
        "outputId": "9baba9e7-7eba-49fd-b2de-24716292429e"
      },
      "execution_count": 5,
      "outputs": [
        {
          "output_type": "stream",
          "name": "stdout",
          "text": [
            "Looking in indexes: https://pypi.org/simple, https://us-python.pkg.dev/colab-wheels/public/simple/\n",
            "Collecting split-folders\n",
            "  Downloading split_folders-0.5.1-py3-none-any.whl (8.4 kB)\n",
            "Installing collected packages: split-folders\n",
            "Successfully installed split-folders-0.5.1\n"
          ]
        },
        {
          "output_type": "stream",
          "name": "stderr",
          "text": [
            "Copying files: 40 files [00:54,  1.36s/ files]\n"
          ]
        }
      ]
    },
    {
      "cell_type": "code",
      "source": [
        "# Get the class names\n",
        "import numpy as np\n",
        "class_names = np.array(sorted([item.name for item in data.glob(\"*\")]))\n",
        "print(class_names)"
      ],
      "metadata": {
        "id": "B1XwNghw1JMR",
        "colab": {
          "base_uri": "https://localhost:8080/"
        },
        "outputId": "acf70b6e-1712-4660-b288-50f2ab225dd9"
      },
      "execution_count": 6,
      "outputs": [
        {
          "output_type": "stream",
          "name": "stdout",
          "text": [
            "['laptop' 'lcd']\n"
          ]
        }
      ]
    },
    {
      "cell_type": "code",
      "source": [
        "from google.colab import drive\n",
        "drive.mount('/content/drive')"
      ],
      "metadata": {
        "colab": {
          "base_uri": "https://localhost:8080/"
        },
        "id": "LHJDizKIxcqC",
        "outputId": "46cfc074-f0a6-494d-d2d5-ad4878855329"
      },
      "execution_count": 7,
      "outputs": [
        {
          "output_type": "stream",
          "name": "stdout",
          "text": [
            "Drive already mounted at /content/drive; to attempt to forcibly remount, call drive.mount(\"/content/drive\", force_remount=True).\n"
          ]
        }
      ]
    },
    {
      "cell_type": "code",
      "source": [
        "# Create a function to visualize that how many images are in every class in train directory\n",
        "def num_images(dir_path):\n",
        "  \"\"\"\n",
        "  Takes the path and show how many pictures are ther in the\n",
        "  given class\n",
        "  \"\"\"\n",
        "\n",
        "  num_images_train_dir = print(f\"There are {len(os.listdir(dir_path))} images in {dir_path} .\")\n",
        "  num_images_train_dir\n",
        "  return"
      ],
      "metadata": {
        "id": "d1XfaPj0xexy"
      },
      "execution_count": 8,
      "outputs": []
    },
    {
      "cell_type": "code",
      "source": [
        "num_images(\"Dataset_split/train/lcd\")"
      ],
      "metadata": {
        "colab": {
          "base_uri": "https://localhost:8080/"
        },
        "id": "zMsZaXp9z596",
        "outputId": "8b59eebf-e22a-4147-fbe2-26d9a53b0eef"
      },
      "execution_count": 9,
      "outputs": [
        {
          "output_type": "stream",
          "name": "stdout",
          "text": [
            "There are 14 images in Dataset_split/train/lcd .\n"
          ]
        }
      ]
    },
    {
      "cell_type": "code",
      "source": [
        "# Alright let's plot and visualize the images\n",
        "import matplotlib.pyplot as plt\n",
        "import matplotlib.image as mpimg\n",
        "import random\n",
        "\n",
        "# Create a function to plot and visualize the images\n",
        "def view_random_image(target_dir, target_class):\n",
        "  target_folder = target_dir + target_class\n",
        "\n",
        "  # Get a random image path\n",
        "  random_image = random.sample(os.listdir(target_folder), 1)\n",
        "  print(random_image) # To see the number of image that we are visualizing\n",
        "  \n",
        "  # Read in the image and plot it using matplotlib\n",
        "  img = mpimg.imread(target_folder + \"/\" + random_image[0])\n",
        "  plt.imshow(img)\n",
        "  plt.title(target_class)\n",
        "  plt.axis(\"off\");\n",
        "\n",
        "  print(f\"Image shape: {img.shape}\")\n",
        "  return img"
      ],
      "metadata": {
        "id": "qGwN8BD-zRKK"
      },
      "execution_count": 10,
      "outputs": []
    },
    {
      "cell_type": "code",
      "source": [
        "# View a random iamge from the training dataset\n",
        "img = view_random_image(target_dir = \"Dataset_split/train/\",\n",
        "                        target_class = \"laptop\")"
      ],
      "metadata": {
        "id": "DzSmyR860adZ"
      },
      "execution_count": null,
      "outputs": []
    },
    {
      "cell_type": "code",
      "source": [
        "tf.constant(img)"
      ],
      "metadata": {
        "colab": {
          "base_uri": "https://localhost:8080/"
        },
        "id": "LiLHCluf0gqw",
        "outputId": "2fe8dd35-c772-4be5-de37-0f30fe8e4f65"
      },
      "execution_count": 12,
      "outputs": [
        {
          "output_type": "execute_result",
          "data": {
            "text/plain": [
              "<tf.Tensor: shape=(3024, 4032, 3), dtype=uint8, numpy=\n",
              "array([[[130, 119,  87],\n",
              "        [139, 128,  96],\n",
              "        [137, 126,  94],\n",
              "        ...,\n",
              "        [205, 186, 179],\n",
              "        [206, 187, 180],\n",
              "        [207, 188, 181]],\n",
              "\n",
              "       [[126, 115,  83],\n",
              "        [128, 117,  85],\n",
              "        [128, 117,  85],\n",
              "        ...,\n",
              "        [204, 185, 178],\n",
              "        [204, 185, 178],\n",
              "        [205, 186, 179]],\n",
              "\n",
              "       [[125, 114,  82],\n",
              "        [129, 118,  86],\n",
              "        [131, 120,  88],\n",
              "        ...,\n",
              "        [204, 185, 178],\n",
              "        [204, 185, 178],\n",
              "        [204, 185, 178]],\n",
              "\n",
              "       ...,\n",
              "\n",
              "       [[127, 126, 108],\n",
              "        [116, 115,  97],\n",
              "        [ 97,  96,  78],\n",
              "        ...,\n",
              "        [ 31,  33,  30],\n",
              "        [ 39,  41,  38],\n",
              "        [ 25,  27,  24]],\n",
              "\n",
              "       [[125, 124, 106],\n",
              "        [119, 118, 100],\n",
              "        [105, 104,  86],\n",
              "        ...,\n",
              "        [ 39,  41,  38],\n",
              "        [ 41,  43,  40],\n",
              "        [ 28,  30,  27]],\n",
              "\n",
              "       [[107, 106,  88],\n",
              "        [118, 117,  99],\n",
              "        [117, 116,  98],\n",
              "        ...,\n",
              "        [ 49,  51,  48],\n",
              "        [ 37,  39,  36],\n",
              "        [ 26,  28,  25]]], dtype=uint8)>"
            ]
          },
          "metadata": {},
          "execution_count": 12
        }
      ]
    },
    {
      "cell_type": "code",
      "source": [
        "img/255."
      ],
      "metadata": {
        "colab": {
          "base_uri": "https://localhost:8080/"
        },
        "id": "DUV77pDL0nhp",
        "outputId": "1cf4b4bd-2f28-42a9-f3b4-0184315dbbd6"
      },
      "execution_count": 13,
      "outputs": [
        {
          "output_type": "execute_result",
          "data": {
            "text/plain": [
              "array([[[0.50980392, 0.46666667, 0.34117647],\n",
              "        [0.54509804, 0.50196078, 0.37647059],\n",
              "        [0.5372549 , 0.49411765, 0.36862745],\n",
              "        ...,\n",
              "        [0.80392157, 0.72941176, 0.70196078],\n",
              "        [0.80784314, 0.73333333, 0.70588235],\n",
              "        [0.81176471, 0.7372549 , 0.70980392]],\n",
              "\n",
              "       [[0.49411765, 0.45098039, 0.3254902 ],\n",
              "        [0.50196078, 0.45882353, 0.33333333],\n",
              "        [0.50196078, 0.45882353, 0.33333333],\n",
              "        ...,\n",
              "        [0.8       , 0.7254902 , 0.69803922],\n",
              "        [0.8       , 0.7254902 , 0.69803922],\n",
              "        [0.80392157, 0.72941176, 0.70196078]],\n",
              "\n",
              "       [[0.49019608, 0.44705882, 0.32156863],\n",
              "        [0.50588235, 0.4627451 , 0.3372549 ],\n",
              "        [0.51372549, 0.47058824, 0.34509804],\n",
              "        ...,\n",
              "        [0.8       , 0.7254902 , 0.69803922],\n",
              "        [0.8       , 0.7254902 , 0.69803922],\n",
              "        [0.8       , 0.7254902 , 0.69803922]],\n",
              "\n",
              "       ...,\n",
              "\n",
              "       [[0.49803922, 0.49411765, 0.42352941],\n",
              "        [0.45490196, 0.45098039, 0.38039216],\n",
              "        [0.38039216, 0.37647059, 0.30588235],\n",
              "        ...,\n",
              "        [0.12156863, 0.12941176, 0.11764706],\n",
              "        [0.15294118, 0.16078431, 0.14901961],\n",
              "        [0.09803922, 0.10588235, 0.09411765]],\n",
              "\n",
              "       [[0.49019608, 0.48627451, 0.41568627],\n",
              "        [0.46666667, 0.4627451 , 0.39215686],\n",
              "        [0.41176471, 0.40784314, 0.3372549 ],\n",
              "        ...,\n",
              "        [0.15294118, 0.16078431, 0.14901961],\n",
              "        [0.16078431, 0.16862745, 0.15686275],\n",
              "        [0.10980392, 0.11764706, 0.10588235]],\n",
              "\n",
              "       [[0.41960784, 0.41568627, 0.34509804],\n",
              "        [0.4627451 , 0.45882353, 0.38823529],\n",
              "        [0.45882353, 0.45490196, 0.38431373],\n",
              "        ...,\n",
              "        [0.19215686, 0.2       , 0.18823529],\n",
              "        [0.14509804, 0.15294118, 0.14117647],\n",
              "        [0.10196078, 0.10980392, 0.09803922]]])"
            ]
          },
          "metadata": {},
          "execution_count": 13
        }
      ]
    },
    {
      "cell_type": "code",
      "source": [
        "img.shape"
      ],
      "metadata": {
        "colab": {
          "base_uri": "https://localhost:8080/"
        },
        "id": "PBbIbWW10rtu",
        "outputId": "79675808-d3a2-4146-b6aa-1ccb18035183"
      },
      "execution_count": 14,
      "outputs": [
        {
          "output_type": "execute_result",
          "data": {
            "text/plain": [
              "(3024, 4032, 3)"
            ]
          },
          "metadata": {},
          "execution_count": 14
        }
      ]
    },
    {
      "cell_type": "markdown",
      "source": [
        "### Normalization"
      ],
      "metadata": {
        "id": "0CGR6FK10xVj"
      }
    },
    {
      "cell_type": "code",
      "source": [
        "from tensorflow.keras.preprocessing.image import ImageDataGenerator\n",
        "\n",
        "# Set random_seed\n",
        "tf.random.set_seed(42)\n",
        "\n",
        "# Preprocessing data (get all of the pixel values between 0 & 1, this process is called normalization)\n",
        "train_datagen = ImageDataGenerator(rescale = 1/255.)\n",
        "test_datagen = ImageDataGenerator(rescale = 1/255.)\n",
        "valid_datagen = ImageDataGenerator(rescale = 1/255.)\n",
        "\n",
        "# Setup paths to our data directory\n",
        "train_dir = \"Dataset_split/train\"\n",
        "test_dir = \"Dataset_split/test\"\n",
        "valid_dir = \"Dataset_split/val\"\n",
        "\n",
        "# import data from directories and turn it into batches\n",
        "train_data = train_datagen.flow_from_directory(train_dir,\n",
        "                                               batch_size = 32,\n",
        "                                               target_size = (224, 224),\n",
        "                                               class_mode = \"binary\",\n",
        "                                               seed = 42)\n",
        "\n",
        "valid_data = valid_datagen.flow_from_directory(valid_dir,\n",
        "                                               batch_size = 32,\n",
        "                                               target_size = (224, 224),\n",
        "                                               class_mode = \"binary\",\n",
        "                                               seed = 42)\n",
        "test_data = test_datagen.flow_from_directory(test_dir,\n",
        "                                             batch_size = 32,\n",
        "                                             target_size = (224, 224),\n",
        "                                             class_mode = \"binary\",\n",
        "                                             seed = 42)"
      ],
      "metadata": {
        "colab": {
          "base_uri": "https://localhost:8080/"
        },
        "id": "FHwcsdog00Zo",
        "outputId": "bd807a65-9173-4ff5-c8a0-404939281f78"
      },
      "execution_count": 33,
      "outputs": [
        {
          "output_type": "stream",
          "name": "stdout",
          "text": [
            "Found 28 images belonging to 2 classes.\n",
            "Found 8 images belonging to 2 classes.\n",
            "Found 4 images belonging to 2 classes.\n"
          ]
        }
      ]
    },
    {
      "cell_type": "code",
      "source": [
        "# Get a saple of a train data batch\n",
        "images, labels = train_data.next() # Get the \"next batch\" of images\n",
        "len(images), len(labels)"
      ],
      "metadata": {
        "colab": {
          "base_uri": "https://localhost:8080/"
        },
        "id": "IN8oVplQ1FAH",
        "outputId": "293edf31-4d7d-4c92-b468-a365c71f1a0c"
      },
      "execution_count": 34,
      "outputs": [
        {
          "output_type": "execute_result",
          "data": {
            "text/plain": [
              "(28, 28)"
            ]
          },
          "metadata": {},
          "execution_count": 34
        }
      ]
    },
    {
      "cell_type": "code",
      "source": [
        "from tensorflow.keras.optimizers import Adam\n",
        "from tensorflow.keras.layers import Dense, Flatten, Conv2D, MaxPool2D, Activation\n",
        "from tensorflow.keras import Sequential\n",
        "model_1 = Sequential([\n",
        " Conv2D(10, 3, activation =\"relu\"),\n",
        " MaxPool2D(),\n",
        " Conv2D(10, 3, activation = \"relu\"),\n",
        " MaxPool2D(),\n",
        " Conv2D(10, 3, activation = \"relu\"),\n",
        " Conv2D(10, 3, activation = \"relu\"),\n",
        " MaxPool2D(),\n",
        " Flatten(),\n",
        " Dense(1, activation= \"sigmoid\")\n",
        "])\n",
        "\n",
        "#2. Compile the model\n",
        "model_1.compile(loss = \"binary_crossentropy\",\n",
        "                optimizer = Adam(),\n",
        "                metrics = [\"accuracy\"])\n",
        "\n",
        "#3. Fit the model\n",
        "history_1 = model_1.fit(train_data,\n",
        "                        epochs = 10,\n",
        "                        steps_per_epoch = len(train_data),\n",
        "                        validation_data = valid_data,\n",
        "                        validation_steps = len(valid_data)\n",
        "                        )"
      ],
      "metadata": {
        "colab": {
          "base_uri": "https://localhost:8080/"
        },
        "id": "smcOrL021Ov2",
        "outputId": "9ecfceb0-7c25-415b-eb88-2e704762af5b"
      },
      "execution_count": 35,
      "outputs": [
        {
          "output_type": "stream",
          "name": "stdout",
          "text": [
            "Epoch 1/10\n",
            "1/1 [==============================] - 7s 7s/step - loss: 0.6930 - accuracy: 0.5000 - val_loss: 0.6796 - val_accuracy: 0.5000\n",
            "Epoch 2/10\n",
            "1/1 [==============================] - 5s 5s/step - loss: 0.6685 - accuracy: 0.5000 - val_loss: 0.6689 - val_accuracy: 0.5000\n",
            "Epoch 3/10\n",
            "1/1 [==============================] - 5s 5s/step - loss: 0.6427 - accuracy: 0.6429 - val_loss: 0.6536 - val_accuracy: 0.5000\n",
            "Epoch 4/10\n",
            "1/1 [==============================] - 6s 6s/step - loss: 0.6114 - accuracy: 0.7500 - val_loss: 0.6350 - val_accuracy: 0.7500\n",
            "Epoch 5/10\n",
            "1/1 [==============================] - 5s 5s/step - loss: 0.5745 - accuracy: 0.7500 - val_loss: 0.6124 - val_accuracy: 0.7500\n",
            "Epoch 6/10\n",
            "1/1 [==============================] - 5s 5s/step - loss: 0.5310 - accuracy: 0.8214 - val_loss: 0.5864 - val_accuracy: 0.7500\n",
            "Epoch 7/10\n",
            "1/1 [==============================] - 6s 6s/step - loss: 0.4818 - accuracy: 0.9286 - val_loss: 0.5564 - val_accuracy: 0.7500\n",
            "Epoch 8/10\n",
            "1/1 [==============================] - 5s 5s/step - loss: 0.4263 - accuracy: 0.9643 - val_loss: 0.5232 - val_accuracy: 1.0000\n",
            "Epoch 9/10\n",
            "1/1 [==============================] - 5s 5s/step - loss: 0.3679 - accuracy: 1.0000 - val_loss: 0.4837 - val_accuracy: 1.0000\n",
            "Epoch 10/10\n",
            "1/1 [==============================] - 5s 5s/step - loss: 0.3088 - accuracy: 1.0000 - val_loss: 0.4336 - val_accuracy: 1.0000\n"
          ]
        }
      ]
    },
    {
      "cell_type": "code",
      "source": [
        "# Get the first two images\n",
        "images[0].shape"
      ],
      "metadata": {
        "colab": {
          "base_uri": "https://localhost:8080/"
        },
        "id": "BWXrg0Zs1k8x",
        "outputId": "5cbf4204-6282-41ca-e9e0-36b5e2c7f9e9"
      },
      "execution_count": 36,
      "outputs": [
        {
          "output_type": "execute_result",
          "data": {
            "text/plain": [
              "(224, 224, 3)"
            ]
          },
          "metadata": {},
          "execution_count": 36
        }
      ]
    },
    {
      "cell_type": "code",
      "source": [
        "model_1.evaluate(valid_data)"
      ],
      "metadata": {
        "colab": {
          "base_uri": "https://localhost:8080/"
        },
        "id": "_fx6-XJE16wy",
        "outputId": "f0087361-5abd-46d1-f95f-d399e3f3f1b2"
      },
      "execution_count": 37,
      "outputs": [
        {
          "output_type": "stream",
          "name": "stdout",
          "text": [
            "1/1 [==============================] - 1s 1s/step - loss: 0.4336 - accuracy: 1.0000\n"
          ]
        },
        {
          "output_type": "execute_result",
          "data": {
            "text/plain": [
              "[0.4336291551589966, 1.0]"
            ]
          },
          "metadata": {},
          "execution_count": 37
        }
      ]
    },
    {
      "cell_type": "code",
      "source": [
        "# Dwonloading our custom image to predict on\n",
        "import matplotlib.image as mpimg\n",
        "!wget https://www.czone.com.pk/Images/Thumbnails/copy-copy-copy-copy-copy-5dee1a3188a8e362142962-1540-9061-301219092600.jpg"
      ],
      "metadata": {
        "colab": {
          "base_uri": "https://localhost:8080/"
        },
        "id": "VH8t0Me62fD7",
        "outputId": "db181c8e-285e-4bba-8734-9d03a4924c41"
      },
      "execution_count": 38,
      "outputs": [
        {
          "output_type": "stream",
          "name": "stdout",
          "text": [
            "--2022-07-04 05:47:39--  https://www.czone.com.pk/Images/Thumbnails/copy-copy-copy-copy-copy-5dee1a3188a8e362142962-1540-9061-301219092600.jpg\n",
            "Resolving www.czone.com.pk (www.czone.com.pk)... 104.26.2.89, 104.26.3.89, 172.67.75.81, ...\n",
            "Connecting to www.czone.com.pk (www.czone.com.pk)|104.26.2.89|:443... connected.\n",
            "HTTP request sent, awaiting response... 200 OK\n",
            "Length: 3965 (3.9K) [image/jpeg]\n",
            "Saving to: ‘copy-copy-copy-copy-copy-5dee1a3188a8e362142962-1540-9061-301219092600.jpg.1’\n",
            "\n",
            "\r          copy-copy   0%[                    ]       0  --.-KB/s               \rcopy-copy-copy-copy 100%[===================>]   3.87K  --.-KB/s    in 0s      \n",
            "\n",
            "2022-07-04 05:47:39 (51.4 MB/s) - ‘copy-copy-copy-copy-copy-5dee1a3188a8e362142962-1540-9061-301219092600.jpg.1’ saved [3965/3965]\n",
            "\n"
          ]
        }
      ]
    },
    {
      "cell_type": "code",
      "source": [
        "laptop = mpimg.imread(\"copy-copy-copy-copy-copy-5dee1a3188a8e362142962-1540-9061-301219092600.jpg\")\n",
        "laptop"
      ],
      "metadata": {
        "colab": {
          "base_uri": "https://localhost:8080/"
        },
        "id": "KrM3EMiv4D1k",
        "outputId": "5faa4dfc-7755-415a-efd6-0df9a4d3e50c"
      },
      "execution_count": 39,
      "outputs": [
        {
          "output_type": "execute_result",
          "data": {
            "text/plain": [
              "array([[[255, 255, 255],\n",
              "        [255, 255, 255],\n",
              "        [255, 255, 255],\n",
              "        ...,\n",
              "        [255, 255, 255],\n",
              "        [255, 255, 255],\n",
              "        [254, 254, 254]],\n",
              "\n",
              "       [[255, 255, 255],\n",
              "        [255, 255, 255],\n",
              "        [255, 255, 255],\n",
              "        ...,\n",
              "        [255, 255, 255],\n",
              "        [255, 255, 255],\n",
              "        [254, 254, 254]],\n",
              "\n",
              "       [[255, 255, 255],\n",
              "        [255, 255, 255],\n",
              "        [255, 255, 255],\n",
              "        ...,\n",
              "        [255, 255, 255],\n",
              "        [255, 255, 255],\n",
              "        [254, 254, 254]],\n",
              "\n",
              "       ...,\n",
              "\n",
              "       [[255, 255, 255],\n",
              "        [255, 255, 255],\n",
              "        [255, 255, 255],\n",
              "        ...,\n",
              "        [255, 255, 255],\n",
              "        [255, 255, 255],\n",
              "        [254, 254, 254]],\n",
              "\n",
              "       [[255, 255, 255],\n",
              "        [255, 255, 255],\n",
              "        [255, 255, 255],\n",
              "        ...,\n",
              "        [255, 255, 255],\n",
              "        [255, 255, 255],\n",
              "        [254, 254, 254]],\n",
              "\n",
              "       [[254, 254, 254],\n",
              "        [254, 254, 254],\n",
              "        [254, 254, 254],\n",
              "        ...,\n",
              "        [254, 254, 254],\n",
              "        [254, 254, 254],\n",
              "        [254, 254, 254]]], dtype=uint8)"
            ]
          },
          "metadata": {},
          "execution_count": 39
        }
      ]
    },
    {
      "cell_type": "code",
      "source": [
        "# Createa function to imoprt an image and resize it to be ableto be used with our model\n",
        "def load_and_prep(filename, img_shape = 224):\n",
        "  \"\"\"\n",
        "  Reads an image from filename, turns it into  tensor and reshape it to (img_shape,img_shape, colour_channels)\n",
        "  \"\"\"\n",
        "  # Read in the image\n",
        "  img = tf.io.read_file(filename)\n",
        "  # Decode the read_file into a tensor\n",
        "  img = tf.image.decode_image(img)\n",
        "  # Resize the image\n",
        "  img = tf.image.resize (img, size = [img_shape, img_shape])\n",
        "  # Rescale the image (get all values between 0 an 1 )\n",
        "  img = img/255.\n",
        "  return img\n"
      ],
      "metadata": {
        "id": "dOXXivbZ4mK5"
      },
      "execution_count": 40,
      "outputs": []
    },
    {
      "cell_type": "code",
      "source": [
        "laptop = load_and_prep(\"copy-copy-copy-copy-copy-5dee1a3188a8e362142962-1540-9061-301219092600.jpg\")\n",
        "laptop"
      ],
      "metadata": {
        "colab": {
          "base_uri": "https://localhost:8080/"
        },
        "id": "mTVbKUcV4trY",
        "outputId": "1cc8be61-1e3d-4c01-f6ba-72d9cb571f54"
      },
      "execution_count": 41,
      "outputs": [
        {
          "output_type": "execute_result",
          "data": {
            "text/plain": [
              "<tf.Tensor: shape=(224, 224, 3), dtype=float32, numpy=\n",
              "array([[[1.        , 1.        , 1.        ],\n",
              "        [1.        , 1.        , 1.        ],\n",
              "        [1.        , 1.        , 1.        ],\n",
              "        ...,\n",
              "        [1.        , 1.        , 1.        ],\n",
              "        [1.        , 1.        , 1.        ],\n",
              "        [0.99608725, 0.99608725, 0.99608725]],\n",
              "\n",
              "       [[1.        , 1.        , 1.        ],\n",
              "        [1.        , 1.        , 1.        ],\n",
              "        [1.        , 1.        , 1.        ],\n",
              "        ...,\n",
              "        [1.        , 1.        , 1.        ],\n",
              "        [1.        , 1.        , 1.        ],\n",
              "        [0.99608725, 0.99608725, 0.99608725]],\n",
              "\n",
              "       [[1.        , 1.        , 1.        ],\n",
              "        [1.        , 1.        , 1.        ],\n",
              "        [1.        , 1.        , 1.        ],\n",
              "        ...,\n",
              "        [1.        , 1.        , 1.        ],\n",
              "        [1.        , 1.        , 1.        ],\n",
              "        [0.99608725, 0.99608725, 0.99608725]],\n",
              "\n",
              "       ...,\n",
              "\n",
              "       [[1.        , 1.        , 1.        ],\n",
              "        [1.        , 1.        , 1.        ],\n",
              "        [1.        , 1.        , 1.        ],\n",
              "        ...,\n",
              "        [1.        , 1.        , 1.        ],\n",
              "        [1.        , 1.        , 1.        ],\n",
              "        [0.99608725, 0.99608725, 0.99608725]],\n",
              "\n",
              "       [[1.        , 1.        , 1.        ],\n",
              "        [1.        , 1.        , 1.        ],\n",
              "        [1.        , 1.        , 1.        ],\n",
              "        ...,\n",
              "        [1.        , 1.        , 1.        ],\n",
              "        [1.        , 1.        , 1.        ],\n",
              "        [0.99608725, 0.99608725, 0.99608725]],\n",
              "\n",
              "       [[0.99608725, 0.99608725, 0.99608725],\n",
              "        [0.99608725, 0.99608725, 0.99608725],\n",
              "        [0.99608725, 0.99608725, 0.99608725],\n",
              "        ...,\n",
              "        [0.99608725, 0.99608725, 0.99608725],\n",
              "        [0.99608725, 0.99608725, 0.99608725],\n",
              "        [0.99607843, 0.99607843, 0.99607843]]], dtype=float32)>"
            ]
          },
          "metadata": {},
          "execution_count": 41
        }
      ]
    },
    {
      "cell_type": "code",
      "source": [
        "pred = model_1.predict(tf.expand_dims(laptop, axis = 0))"
      ],
      "metadata": {
        "id": "wKzrg1yj4514"
      },
      "execution_count": 42,
      "outputs": []
    },
    {
      "cell_type": "code",
      "source": [
        "# We can index the predicted class by rounding the prediction probability and indexing it on the class names\n",
        "pred_class = class_names[int(tf.round(pred))]\n",
        "pred_class"
      ],
      "metadata": {
        "colab": {
          "base_uri": "https://localhost:8080/",
          "height": 35
        },
        "id": "tOGH54kB5Bap",
        "outputId": "0cc9de13-0644-482a-e7c9-1f5dc5eddfff"
      },
      "execution_count": 43,
      "outputs": [
        {
          "output_type": "execute_result",
          "data": {
            "text/plain": [
              "'lcd'"
            ],
            "application/vnd.google.colaboratory.intrinsic+json": {
              "type": "string"
            }
          },
          "metadata": {},
          "execution_count": 43
        }
      ]
    },
    {
      "cell_type": "code",
      "source": [
        "def prep_and_plot(model, filename, class_names = class_names):\n",
        "  \"\"\"\n",
        "  Imports an image located at filename, makes a prediction with model\n",
        "  and plots the image with the predicted class as the title\n",
        "  \"\"\"\n",
        "  # Import the target image and preprocess it\n",
        "  img = load_and_prep(filename)\n",
        "\n",
        "  # Make a prediction\n",
        "  pred = model.predict(tf.expand_dims(img,axis = 0))\n",
        "\n",
        "  # Get the predicted class\n",
        "  pred_class = class_names[int(tf.round(pred))]\n",
        "\n",
        "  # Plot the image and predicted class\n",
        "  plt.imshow(img)\n",
        "  plt.title(f\"Prediction: {pred_class}\")\n",
        "  plt.axis(False)"
      ],
      "metadata": {
        "id": "cKJg4zm-5U1k"
      },
      "execution_count": 44,
      "outputs": []
    },
    {
      "cell_type": "code",
      "source": [
        "import pandas as pd\n",
        "plt.title(\"Plot loss and accuracy curve\")\n",
        "plt.plot(pd.DataFrame(history_1.history))\n",
        "plt.legend()\n",
        "plt.xlabel(\"Epochs & Loss\", c =\"b\")\n",
        "plt.ylabel(\"Accuracy\", c = \"b\")"
      ],
      "metadata": {
        "id": "7PU65i815e--",
        "colab": {
          "base_uri": "https://localhost:8080/",
          "height": 330
        },
        "outputId": "c3cf750b-2559-4e2c-c099-3d2840166d61"
      },
      "execution_count": 51,
      "outputs": [
        {
          "output_type": "stream",
          "name": "stderr",
          "text": [
            "No handles with labels found to put in legend.\n"
          ]
        },
        {
          "output_type": "execute_result",
          "data": {
            "text/plain": [
              "Text(0, 0.5, 'Accuracy')"
            ]
          },
          "metadata": {},
          "execution_count": 51
        },
        {
          "output_type": "display_data",
          "data": {
            "text/plain": [
              "<Figure size 432x288 with 1 Axes>"
            ],
            "image/png": "[encoded data removed]"
          },
          "metadata": {
            "needs_background": "light"
          }
        }
      ]
    },
    {
      "cell_type": "code",
      "source": [
        "prep_and_plot(model_1, \"laptop.jfif\")"
      ],
      "metadata": {
        "colab": {
          "base_uri": "https://localhost:8080/",
          "height": 264
        },
        "id": "DtsnINc-u2Ut",
        "outputId": "a4defdd6-843b-4a52-f18b-6fc65424e6ea"
      },
      "execution_count": 50,
      "outputs": [
        {
          "output_type": "display_data",
          "data": {
            "text/plain": [
              "<Figure size 432x288 with 1 Axes>"
            ],
            "image/png": "[encoded data removed]"
          },
          "metadata": {
            "needs_background": "light"
          }
        }
      ]
    },
    {
      "cell_type": "code",
      "source": [
        "model_1.summary()"
      ],
      "metadata": {
        "colab": {
          "base_uri": "https://localhost:8080/"
        },
        "id": "UFH-PPS0wcsn",
        "outputId": "504803a2-4cfa-4ad0-a6a6-903d03c03deb"
      },
      "execution_count": 52,
      "outputs": [
        {
          "output_type": "stream",
          "name": "stdout",
          "text": [
            "Model: \"sequential_1\"\n",
            "_________________________________________________________________\n",
            " Layer (type)                Output Shape              Param #   \n",
            "=================================================================\n",
            " conv2d_4 (Conv2D)           (None, None, None, 10)    280       \n",
            "                                                                 \n",
            " max_pooling2d_3 (MaxPooling  (None, None, None, 10)   0         \n",
            " 2D)                                                             \n",
            "                                                                 \n",
            " conv2d_5 (Conv2D)           (None, None, None, 10)    910       \n",
            "                                                                 \n",
            " max_pooling2d_4 (MaxPooling  (None, None, None, 10)   0         \n",
            " 2D)                                                             \n",
            "                                                                 \n",
            " conv2d_6 (Conv2D)           (None, None, None, 10)    910       \n",
            "                                                                 \n",
            " conv2d_7 (Conv2D)           (None, None, None, 10)    910       \n",
            "                                                                 \n",
            " max_pooling2d_5 (MaxPooling  (None, None, None, 10)   0         \n",
            " 2D)                                                             \n",
            "                                                                 \n",
            " flatten_1 (Flatten)         (None, None)              0         \n",
            "                                                                 \n",
            " dense_1 (Dense)             (None, 1)                 6251      \n",
            "                                                                 \n",
            "=================================================================\n",
            "Total params: 9,261\n",
            "Trainable params: 9,261\n",
            "Non-trainable params: 0\n",
            "_________________________________________________________________\n"
          ]
        }
      ]
    },
    {
      "cell_type": "code",
      "source": [
        "model_1.save(\"saved_lcd_laptop_trained_model_1\")"
      ],
      "metadata": {
        "colab": {
          "base_uri": "https://localhost:8080/"
        },
        "id": "EzaX3ujl0Ma_",
        "outputId": "ba02dfa9-48f3-486b-d664-fd928a11849d"
      },
      "execution_count": 53,
      "outputs": [
        {
          "output_type": "stream",
          "name": "stdout",
          "text": [
            "INFO:tensorflow:Assets written to: saved_lcd_laptop_trained_model_1/assets\n"
          ]
        }
      ]
    },
    {
      "cell_type": "code",
      "source": [
        "loaded_model_1 = tf.keras.models.load_model(\"/content/drive/MyDrive/saved_lcd_laptop_trained_model_1\")"
      ],
      "metadata": {
        "id": "cIqm42eO0jDF"
      },
      "execution_count": 60,
      "outputs": []
    },
    {
      "cell_type": "code",
      "source": [
        "loaded_model_1.evaluate(test_data)"
      ],
      "metadata": {
        "colab": {
          "base_uri": "https://localhost:8080/"
        },
        "id": "K2-hQ_4A0udH",
        "outputId": "b649f330-fcc4-4b84-9479-04a95d3758df"
      },
      "execution_count": 61,
      "outputs": [
        {
          "output_type": "stream",
          "name": "stdout",
          "text": [
            "1/1 [==============================] - 1s 813ms/step - loss: 0.3881 - accuracy: 1.0000\n"
          ]
        },
        {
          "output_type": "execute_result",
          "data": {
            "text/plain": [
              "[0.3880928158760071, 1.0]"
            ]
          },
          "metadata": {},
          "execution_count": 61
        }
      ]
    },
    {
      "cell_type": "code",
      "source": [
        ""
      ],
      "metadata": {
        "id": "aYexy5Ll0zsv"
      },
      "execution_count": null,
      "outputs": []
    }
  ]
}